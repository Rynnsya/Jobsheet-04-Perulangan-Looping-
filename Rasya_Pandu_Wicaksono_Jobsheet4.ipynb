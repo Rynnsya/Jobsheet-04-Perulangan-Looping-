{
  "nbformat": 4,
  "nbformat_minor": 0,
  "metadata": {
    "colab": {
      "provenance": [],
      "authorship_tag": "ABX9TyMM/eXEvAdLD75zbsFN4Oyw",
      "include_colab_link": true
    },
    "kernelspec": {
      "name": "python3",
      "display_name": "Python 3"
    },
    "language_info": {
      "name": "python"
    }
  },
  "cells": [
    {
      "cell_type": "markdown",
      "metadata": {
        "id": "view-in-github",
        "colab_type": "text"
      },
      "source": [
        "<a href=\"https://colab.research.google.com/github/Rynnsya/Jobsheet-04-Perulangan-Looping-/blob/main/Rasya_Pandu_Wicaksono_Jobsheet4.ipynb\" target=\"_parent\"><img src=\"https://colab.research.google.com/assets/colab-badge.svg\" alt=\"Open In Colab\"/></a>"
      ]
    },
    {
      "cell_type": "markdown",
      "source": [
        "Praktikum 1 For dengan Range"
      ],
      "metadata": {
        "id": "2DPT1-VkczaC"
      }
    },
    {
      "cell_type": "code",
      "execution_count": 1,
      "metadata": {
        "colab": {
          "base_uri": "https://localhost:8080/"
        },
        "id": "lmbs5ufFcm0m",
        "outputId": "b43da109-eadc-49d2-d8a4-29d9de33cee1"
      },
      "outputs": [
        {
          "output_type": "stream",
          "name": "stdout",
          "text": [
            "1\n",
            "2\n",
            "3\n",
            "4\n",
            "5\n"
          ]
        }
      ],
      "source": [
        "for i in range(1, 6):\n",
        "  print(i)\n"
      ]
    },
    {
      "cell_type": "markdown",
      "source": [
        "Praktikum 2 While ( Hitung Mundur )"
      ],
      "metadata": {
        "id": "uztsJ7aldSBZ"
      }
    },
    {
      "cell_type": "code",
      "source": [
        "n = 5\n",
        "\n",
        "while n > 0:\n",
        "    print(n)\n",
        "    n -= 1"
      ],
      "metadata": {
        "colab": {
          "base_uri": "https://localhost:8080/"
        },
        "id": "EjnHYXLjdWNe",
        "outputId": "8dd88390-c4d7-4e81-c288-577a8b251736"
      },
      "execution_count": 2,
      "outputs": [
        {
          "output_type": "stream",
          "name": "stdout",
          "text": [
            "5\n",
            "4\n",
            "3\n",
            "2\n",
            "1\n"
          ]
        }
      ]
    },
    {
      "cell_type": "markdown",
      "source": [
        "Praktikum 3 Nesteed Loop ( Segitiga Bintang )"
      ],
      "metadata": {
        "id": "Xi9xzF4ddW-E"
      }
    },
    {
      "cell_type": "code",
      "source": [
        "for i in range(1, 6):\n",
        "    for j in range(i):\n",
        "        print(\"*\", end=\"\")\n",
        "    print()"
      ],
      "metadata": {
        "colab": {
          "base_uri": "https://localhost:8080/"
        },
        "id": "iTJC6IwCdaeL",
        "outputId": "1d78262a-d9ed-4374-9f39-33f6754d7585"
      },
      "execution_count": 3,
      "outputs": [
        {
          "output_type": "stream",
          "name": "stdout",
          "text": [
            "*\n",
            "**\n",
            "***\n",
            "****\n",
            "*****\n"
          ]
        }
      ]
    },
    {
      "cell_type": "markdown",
      "source": [
        "Praktikum 4 Break"
      ],
      "metadata": {
        "id": "UDzxSr3XdbA7"
      }
    },
    {
      "cell_type": "code",
      "source": [
        "for i in range(1, 11):\n",
        "    if i == 5:\n",
        "        print(\"Angka 7 ditemukan\")\n",
        "        break"
      ],
      "metadata": {
        "colab": {
          "base_uri": "https://localhost:8080/"
        },
        "id": "b_6_FMokde45",
        "outputId": "d2901a94-5e1e-4214-e920-9bf5d39dde54"
      },
      "execution_count": 5,
      "outputs": [
        {
          "output_type": "stream",
          "name": "stdout",
          "text": [
            "Angka 7 ditemukan\n"
          ]
        }
      ]
    },
    {
      "cell_type": "markdown",
      "source": [
        "Praktikum 4 Continue"
      ],
      "metadata": {
        "id": "0p-jCwmTdmIg"
      }
    },
    {
      "cell_type": "code",
      "source": [
        "for i in range(1, 6):\n",
        "    if i % 2 == 1:\n",
        "        continue\n",
        "    print(i)"
      ],
      "metadata": {
        "colab": {
          "base_uri": "https://localhost:8080/"
        },
        "id": "P-hqWlTPdn8T",
        "outputId": "c1199fd9-eff1-4a69-cdc4-f4d10b7bf5f6"
      },
      "execution_count": 6,
      "outputs": [
        {
          "output_type": "stream",
          "name": "stdout",
          "text": [
            "2\n",
            "4\n"
          ]
        }
      ]
    },
    {
      "cell_type": "markdown",
      "source": [
        "Praktikum 5 For pada Dictionary"
      ],
      "metadata": {
        "id": "SgHbqknLdogZ"
      }
    },
    {
      "cell_type": "code",
      "source": [
        "data = {\"Nama\": \"Andi\", \"Umur\": 20, \"Prodi\": \"TRK\"}\n",
        "\n",
        "for k, v in data.items():\n",
        "    print(k, \":\", v)"
      ],
      "metadata": {
        "colab": {
          "base_uri": "https://localhost:8080/"
        },
        "id": "bs6lHnHtdrX-",
        "outputId": "43a55bf2-fce0-4357-dc0a-246990ee5f64"
      },
      "execution_count": 7,
      "outputs": [
        {
          "output_type": "stream",
          "name": "stdout",
          "text": [
            "Nama : Andi\n",
            "Umur : 20\n",
            "Prodi : TRK\n"
          ]
        }
      ]
    },
    {
      "cell_type": "markdown",
      "source": [
        "Praktikum 6 For dengan Enumerate"
      ],
      "metadata": {
        "id": "rs17if1fdtFP"
      }
    },
    {
      "cell_type": "code",
      "source": [
        "daftar = [\"Andi\", \"Budi\", \"Cici\"]\n",
        "\n",
        "for i, nama in enumerate(daftar, start=1):\n",
        "    print(i, nama)\n",
        ""
      ],
      "metadata": {
        "colab": {
          "base_uri": "https://localhost:8080/"
        },
        "id": "fpTgrCW9dwDs",
        "outputId": "399d2877-aaee-4685-e7a2-7faa42b8d6ca"
      },
      "execution_count": 8,
      "outputs": [
        {
          "output_type": "stream",
          "name": "stdout",
          "text": [
            "1 Andi\n",
            "2 Budi\n",
            "3 Cici\n"
          ]
        }
      ]
    },
    {
      "cell_type": "markdown",
      "source": [
        "Praktikum 7 Kasir Multi - Item"
      ],
      "metadata": {
        "id": "PJHAgW_re1hk"
      }
    },
    {
      "cell_type": "code",
      "source": [
        "total = 0\n",
        "\n",
        "while True:\n",
        "    barang = input(\"Masukkan nama barang (ketik 'selesai' untuk berhenti): \")\n",
        "    if barang.lower() == \"selesai\":\n",
        "        break\n",
        "\n",
        "    harga = float(input(f\"Masukkan harga {barang}: \"))\n",
        "    jumlah = int(input(f\"Masukkan jumlah {barang}: \"))\n",
        "    subtotal = harga * jumlah\n",
        "    total += subtotal\n",
        "\n",
        "print(\"\\n===== Struk Belanja =====\")\n",
        "print(f\"Total Belanja : Rp {total}\")"
      ],
      "metadata": {
        "colab": {
          "base_uri": "https://localhost:8080/"
        },
        "id": "q9EMdXMRe4mx",
        "outputId": "566db724-05c5-4b81-e95e-3c466dfc62f0"
      },
      "execution_count": 9,
      "outputs": [
        {
          "output_type": "stream",
          "name": "stdout",
          "text": [
            "Masukkan nama barang (ketik 'selesai' untuk berhenti): sepatu\n",
            "Masukkan harga sepatu: 500000\n",
            "Masukkan jumlah sepatu: 42\n",
            "Masukkan nama barang (ketik 'selesai' untuk berhenti): baju\n",
            "Masukkan harga baju: 270000\n",
            "Masukkan jumlah baju: 30\n",
            "Masukkan nama barang (ketik 'selesai' untuk berhenti): selesai\n",
            "\n",
            "===== Struk Belanja =====\n",
            "Total Belanja : Rp 29100000.0\n"
          ]
        }
      ]
    },
    {
      "cell_type": "markdown",
      "source": [
        "Penugasan 3 Menampilkan Deret Angka"
      ],
      "metadata": {
        "id": "lL2forwVkaFJ"
      }
    },
    {
      "cell_type": "code",
      "source": [
        "for i in range(3, 31, 3):\n",
        "    print(i)"
      ],
      "metadata": {
        "colab": {
          "base_uri": "https://localhost:8080/"
        },
        "id": "4t8tOdvehZMp",
        "outputId": "2b35c657-1a00-446b-8fae-c2babf8dbe57"
      },
      "execution_count": 10,
      "outputs": [
        {
          "output_type": "stream",
          "name": "stdout",
          "text": [
            "3\n",
            "6\n",
            "9\n",
            "12\n",
            "15\n",
            "18\n",
            "21\n",
            "24\n",
            "27\n",
            "30\n"
          ]
        }
      ]
    },
    {
      "cell_type": "markdown",
      "source": [
        "Penugasan 4 Hitung Faktorial"
      ],
      "metadata": {
        "id": "ROMneQH3khDS"
      }
    },
    {
      "cell_type": "code",
      "source": [
        "n = int(input(\"Masukkan bilangan: \"))\n",
        "faktorial = 1\n",
        "i = 1\n",
        "\n",
        "while i <= n:\n",
        "    faktorial *= i\n",
        "    i += 1\n",
        "\n",
        "print(f\"Faktorial dari {n} adalah {faktorial}\")"
      ],
      "metadata": {
        "colab": {
          "base_uri": "https://localhost:8080/"
        },
        "id": "YnoyCpLfkj7F",
        "outputId": "e6cb6a52-c784-40aa-81f5-a8585fd8aebc"
      },
      "execution_count": 11,
      "outputs": [
        {
          "output_type": "stream",
          "name": "stdout",
          "text": [
            "Masukkan bilangan: 5\n",
            "Faktorial dari 5 adalah 120\n"
          ]
        }
      ]
    },
    {
      "cell_type": "markdown",
      "source": [
        "Penugasan 5 Pola Segitiga Terbalik"
      ],
      "metadata": {
        "id": "daVlCpCdkkRN"
      }
    },
    {
      "cell_type": "code",
      "source": [
        "for i in range(5, 0, -1):\n",
        "    for j in range(i):\n",
        "        print(\"*\", end=\"\")\n",
        "    print()"
      ],
      "metadata": {
        "colab": {
          "base_uri": "https://localhost:8080/"
        },
        "id": "r6NPNs-5kmhF",
        "outputId": "b4706f52-d793-438f-db53-b2272c3ced25"
      },
      "execution_count": 12,
      "outputs": [
        {
          "output_type": "stream",
          "name": "stdout",
          "text": [
            "*****\n",
            "****\n",
            "***\n",
            "**\n",
            "*\n"
          ]
        }
      ]
    },
    {
      "cell_type": "markdown",
      "source": [
        "Penugasan 6 Cari Bilangan Prima dengan Break"
      ],
      "metadata": {
        "id": "UDdo78ElknCB"
      }
    },
    {
      "cell_type": "code",
      "source": [
        "n = int(input(\"Masukkan bilangan: \"))\n",
        "\n",
        "if n > 1:\n",
        "    for i in range(2, n):\n",
        "        if n % i == 0:\n",
        "            print(f\"{n} bukan bilangan prima (karena habis dibagi {i})\")\n",
        "            break\n",
        "    else:\n",
        "        print(f\"{n} adalah bilangan prima\")\n",
        "else:\n",
        "    print(\"Bilangan harus lebih dari 1\")"
      ],
      "metadata": {
        "colab": {
          "base_uri": "https://localhost:8080/"
        },
        "id": "QG7FMirsksHD",
        "outputId": "5b084bb7-508e-4e01-f3f0-c6f8d0fec9f5"
      },
      "execution_count": 13,
      "outputs": [
        {
          "output_type": "stream",
          "name": "stdout",
          "text": [
            "Masukkan bilangan: 7\n",
            "7 adalah bilangan prima\n"
          ]
        }
      ]
    },
    {
      "cell_type": "markdown",
      "source": [
        "Penugasan 7 Tampilkan Hanya Bilangan Genap dengan Continue"
      ],
      "metadata": {
        "id": "VJCW33yOksjv"
      }
    },
    {
      "cell_type": "code",
      "source": [
        "for i in range(1, 21):\n",
        "    if i % 2 != 0:\n",
        "        continue\n",
        "    print(i)"
      ],
      "metadata": {
        "colab": {
          "base_uri": "https://localhost:8080/"
        },
        "id": "kwmTEL4fkx6B",
        "outputId": "c7074643-1918-4451-c2d7-1f4a285a8399"
      },
      "execution_count": 14,
      "outputs": [
        {
          "output_type": "stream",
          "name": "stdout",
          "text": [
            "2\n",
            "4\n",
            "6\n",
            "8\n",
            "10\n",
            "12\n",
            "14\n",
            "16\n",
            "18\n",
            "20\n"
          ]
        }
      ]
    },
    {
      "cell_type": "markdown",
      "source": [
        "Penugasan 8 Iterasi Dictionary Mahasiswa"
      ],
      "metadata": {
        "id": "_Kh4hwx5kyf9"
      }
    },
    {
      "cell_type": "code",
      "source": [
        "mahasiswa = {\"Nama\": \"Budi\", \"Umur\": 21, \"Prodi\": \"Teknik Komputer\"}\n",
        "\n",
        "for k, v in mahasiswa.items():\n",
        "    print(k, \":\", v, end=\" \")"
      ],
      "metadata": {
        "colab": {
          "base_uri": "https://localhost:8080/"
        },
        "id": "Bdqimbb6k2Pj",
        "outputId": "d3f815f8-e437-4bdd-82ac-a49c722db13d"
      },
      "execution_count": 15,
      "outputs": [
        {
          "output_type": "stream",
          "name": "stdout",
          "text": [
            "Nama : Budi Umur : 21 Prodi : Teknik Komputer "
          ]
        }
      ]
    },
    {
      "cell_type": "markdown",
      "source": [
        "Penugasan 9 Enumerate Daftar Barang"
      ],
      "metadata": {
        "id": "_wX6LEGdk25U"
      }
    },
    {
      "cell_type": "code",
      "source": [
        "barang = [\"Buku\", \"Pulpen\", \"Tas\"]\n",
        "\n",
        "for i, nama in enumerate(barang, start=1):\n",
        "    print(i, nama)"
      ],
      "metadata": {
        "colab": {
          "base_uri": "https://localhost:8080/"
        },
        "id": "VMjjAGldk5c3",
        "outputId": "3a7a17ce-4776-4a4b-bd60-f63c9085ff70"
      },
      "execution_count": 16,
      "outputs": [
        {
          "output_type": "stream",
          "name": "stdout",
          "text": [
            "1 Buku\n",
            "2 Pulpen\n",
            "3 Tas\n"
          ]
        }
      ]
    },
    {
      "cell_type": "markdown",
      "source": [
        "Penugasan 10 Studi Kasus - Kasir Diskon"
      ],
      "metadata": {
        "id": "EmQElDaQk7SP"
      }
    },
    {
      "cell_type": "code",
      "source": [
        "total = 0\n",
        "print(\"=== Program Kasir Sederhana ===\")\n",
        "\n",
        "while True:\n",
        "    barang = input(\"Masukkan nama barang (ketik 'selesai' untuk berhenti): \")\n",
        "    if barang.lower() == \"selesai\":\n",
        "        break\n",
        "\n",
        "    harga = float(input(f\"Masukkan harga {barang}: Rp \"))\n",
        "    jumlah = int(input(f\"Masukkan jumlah {barang}: \"))\n",
        "    subtotal = harga * jumlah\n",
        "    total += subtotal\n",
        "\n",
        "    print(f\"Subtotal {barang}: Rp {subtotal}\\n\")\n",
        "\n",
        "# Hitung diskon\n",
        "diskon = 0\n",
        "if total >= 200000:\n",
        "    diskon = total * 0.10\n",
        "\n",
        "total_akhir = total - diskon\n",
        "\n",
        "# Tampilkan struk\n",
        "print(\"\\n===== STRUK BELANJA =====\")\n",
        "print(f\"Total Belanja : Rp {total:,.0f}\")\n",
        "print(f\"Diskon (10%)  : Rp {diskon:,.0f}\")\n",
        "print(f\"Total Bayar   : Rp {total_akhir:,.0f}\")\n",
        "print(\"==========================\")\n",
        "print(\"Terima kasih telah berbelanja!\")"
      ],
      "metadata": {
        "colab": {
          "base_uri": "https://localhost:8080/"
        },
        "id": "aCS9C8Oik-TH",
        "outputId": "0e04e10c-da01-4533-b3f4-8b006b19b354"
      },
      "execution_count": 18,
      "outputs": [
        {
          "output_type": "stream",
          "name": "stdout",
          "text": [
            "=== Program Kasir Sederhana ===\n",
            "Masukkan nama barang (ketik 'selesai' untuk berhenti): sepatu\n",
            "Masukkan harga sepatu: Rp 500000\n",
            "Masukkan jumlah sepatu: 44\n",
            "Subtotal sepatu: Rp 22000000.0\n",
            "\n",
            "Masukkan nama barang (ketik 'selesai' untuk berhenti): selesai\n",
            "\n",
            "===== STRUK BELANJA =====\n",
            "Total Belanja : Rp 22,000,000\n",
            "Diskon (10%)  : Rp 2,200,000\n",
            "Total Bayar   : Rp 19,800,000\n",
            "==========================\n",
            "Terima kasih telah berbelanja!\n"
          ]
        }
      ]
    }
  ]
}